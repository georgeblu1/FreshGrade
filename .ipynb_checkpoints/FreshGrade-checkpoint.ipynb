{
 "cells": [
  {
   "cell_type": "code",
   "execution_count": 8,
   "metadata": {},
   "outputs": [],
   "source": [
    "import tensorflow as tf\n",
    "import keras as k\n",
    "from keras.preprocessing import image\n",
    "from keras.preprocessing.image import ImageDataGenerator\n",
    "from keras.models import Sequential, load_model\n",
    "from keras.layers import Conv2D, MaxPooling2D, Flatten, Dense, Dropout\n",
    "from keras.optimizers import Adam\n",
    "from keras.callbacks import EarlyStopping, ModelCheckpoint\n",
    "from keras.utils import multi_gpu_model\n",
    "import numpy as np\n",
    "import matplotlib.pyplot as plt\n",
    "import matplotlib as mpl\n",
    "mpl.rcParams['axes.titlesize'] = 8\n",
    "import h5py\n",
    "import glob\n",
    "import cv2\n",
    "import os\n",
    "from datetime import date"
   ]
  },
  {
   "cell_type": "code",
   "execution_count": 11,
   "metadata": {},
   "outputs": [],
   "source": [
    "# GLOBALS\n",
    "G = 2\n",
    "size = 512\n",
    "EPOCHS = 10\n",
    "BATCH_SIZE = 32\n",
    "BASE_DIR_PATH = './dataset'\n",
    "MODEL_FILENAME = 'fruit_classify_model'\n",
    "PATH_TO_TRAINED_MODEL_FILE = './' + MODEL_FILENAME + '.h5'\n",
    "\n",
    "#build path to base dir\n",
    "base_dir_path = BASE_DIR_PATH\n",
    "#build path to train dir\n",
    "train_dir_path = os.path.join(base_dir_path,'train')\n",
    "#build path to test dir\n",
    "test_dir_path = os.path.join(base_dir_path,'test')"
   ]
  },
  {
   "cell_type": "code",
   "execution_count": 10,
   "metadata": {},
   "outputs": [],
   "source": [
    "# Utilities\n",
    "\n",
    "def readData():\n",
    "    \"\"\"\n",
    "    Console output of,\n",
    "        total number of classes in train/test dir\n",
    "        total number of images in train/test dir\n",
    "    in given dataset.\n",
    "    \n",
    "    Returns number of classes\n",
    "    \"\"\"\n",
    "    nb_of_train_files = 0\n",
    "    nb_of_test_files = 0\n",
    "    AllClassNames_train = os.listdir(train_dir_path)\n",
    "    AllClassNames_test = os.listdir(test_dir_path)\n",
    "    print('Total Number of Classes in train DataSet: ', len(AllClassNames_train))\n",
    "    print('Total Number of Classes in test DataSet: ', len(AllClassNames_test))\n",
    "    for class_name in AllClassNames_train:\n",
    "        nb_of_train_files = nb_of_train_files + len(os.listdir(os.path.join(train_dir_path, class_name)))\n",
    "        nb_of_test_files = nb_of_test_files + len(os.listdir(os.path.join(test_dir_path, class_name)))\n",
    "    print('Total Number of train samples: ', nb_of_train_files)\n",
    "    print('Total Number of test samples:', nb_of_test_files)\n",
    "    return len(AllClassNames_train)\n",
    "\n",
    "def understandData(train_or_test):\n",
    "    \"\"\"\n",
    "    Function prints number of images per class in train/test directory\n",
    "    <CLASS-NAME    NUMBER-OF-IMAGES>\n",
    "\n",
    "    Args:\n",
    "        train_or_test(str): directory to select train/test\n",
    "    \"\"\"\n",
    "    train_dir_path = os.path.join(BASE_DIR_PATH, train_or_test)\n",
    "    # test_dir_path = os.path.join(BASE_DIR_PATH,'test')\n",
    "    AllClassNames = os.listdir(train_dir_path)\n",
    "    print(\"Number of Classes = \", len(AllClassNames))\n",
    "    # print(\"Class Names = \",AllClassNames)\n",
    "    print('CLASS NAME' + '\\t' + 'NUMBER OF IMAGES')\n",
    "    for class_name in AllClassNames:\n",
    "        print(class_name + '\\t', len(os.listdir(os.path.join(train_dir_path, class_name))))\n",
    "    print(\"======================================================================\")\n",
    "    # displaySampleImages(train_dir_path,AllClassNames)\n",
    "    return len(AllClassNames)\n",
    "\n",
    "def displaySampleImages(PATH_TO_DIR, ALL_CLASS_NAMES):\n",
    "    \"\"\"\n",
    "    Display grid of sample images for every class in dataset.\n",
    "\n",
    "    Args:\n",
    "        PATH_TO_DIR(str): path to train or test dir.\n",
    "        ALL_CLASS_NAMES(str): list of all class names.\n",
    "\n",
    "    \"\"\"\n",
    "    # NoOfClasses = len(ALL_CLASS_NAMES)\n",
    "    fig = plt.figure()\n",
    "    fig.subplots_adjust(hspace=0.7, wspace=0.1)\n",
    "    fig.suptitle('Understanding Fruit-360 Dataset', fontsize=16)\n",
    "    for n, class_name in enumerate(ALL_CLASS_NAMES):\n",
    "        ImagePath = glob.glob(os.path.join(PATH_TO_DIR, class_name) + '/*.jpg')[0]\n",
    "        # print(ImagePath)\n",
    "        Img = cv2.imread(ImagePath)\n",
    "        ax = fig.add_subplot(10, 10, (n + 1))\n",
    "        plt.imshow(cv2.cvtColor(Img, cv2.COLOR_BGR2RGB))\n",
    "        ax.set_title(class_name)\n",
    "        plt.axis('off')\n",
    "    plt.show()\n",
    "    return\n",
    "\n",
    "def plot_result(history):\n",
    "    acc = history.history['acc']\n",
    "    val_acc = history.history['val_acc']\n",
    "    loss = history.history['loss']\n",
    "    val_loss = history.history['val_loss']\n",
    "    epochs = range(1, len(acc) + 1)\n",
    "    plt.plot(epochs, acc, 'bo', label='Training acc')\n",
    "    plt.plot(epochs, val_acc, 'b', label='Validation acc')\n",
    "    plt.title('Training and validation accuracy')\n",
    "    plt.legend()\n",
    "    plt.figure()\n",
    "    plt.plot(epochs, loss, 'bo', label='Training loss')\n",
    "    plt.plot(epochs, val_loss, 'b', label='Validation loss')\n",
    "    plt.title('Training and validation loss')\n",
    "    plt.legend()\n",
    "    plt.show()\n",
    "    return"
   ]
  },
  {
   "cell_type": "code",
   "execution_count": 21,
   "metadata": {},
   "outputs": [],
   "source": [
    "# model building\n",
    "\n",
    "def compile_classify_model(num_of_classes):\n",
    "    classifier = Sequential()\n",
    "    classifier.add(Conv2D(32, (3, 3), input_shape = (size, size, 3), activation = 'relu'))\n",
    "    classifier.add(MaxPooling2D(pool_size = (2, 2)))\n",
    "    #three layers of hidden \n",
    "\n",
    "    classifier.add(Conv2D(64, (3, 3), activation = 'relu'))\n",
    "    classifier.add(MaxPooling2D(pool_size = (2, 2)))\n",
    "    classifier.add(Dropout(0.25))\n",
    "\n",
    "    classifier.add(Conv2D(128, (3, 3), activation = 'relu'))\n",
    "    classifier.add(MaxPooling2D(pool_size = (2, 2)))\n",
    "    classifier.add(Dropout(0.25))\n",
    "\n",
    "    classifier.add(Conv2D(256, (3, 3), activation = 'relu'))\n",
    "    classifier.add(MaxPooling2D(pool_size = (2, 2)))\n",
    "    classifier.add(Dropout(0.25))\n",
    "\n",
    "    classifier.add(Conv2D(512, (3, 3), activation = 'relu'))\n",
    "    classifier.add(MaxPooling2D(pool_size = (2, 2)))\n",
    "    classifier.add(Dropout(0.25))\n",
    "\n",
    "    classifier.add(Flatten())\n",
    "\n",
    "    classifier.add(Dense(units = 128, activation = 'relu'))\n",
    "    classifier.add(Dropout(0.25))\n",
    "    classifier.add(Dense(units = 128, activation = 'relu'))\n",
    "    classifier.add(Dropout(0.25))\n",
    "    classifier.add(Dense(units = num_of_classes, activation = 'softmax'))\n",
    "    \n",
    "    parallel_model = classifier\n",
    "    #parallel_model = multi_gpu_model(classifier, gpus=G)\n",
    "    \n",
    "    parallel_model.compile(optimizer = 'adam', loss = 'categorical_crossentropy', metrics = ['accuracy'])\n",
    "    #parallel_model.compile(optimizer = k.optimizers.RMSprop(lr = 1e-4, decay = 1e-6))\n",
    "    parallel_model.summary()\n",
    "    return parallel_model\n",
    "\n",
    "def train_classify_model(classify_model, batch_size = BATCH_SIZE, save_model_filename = MODEL_FILENAME, input_size = (size,size)):\n",
    "    train_datagen = ImageDataGenerator(rescale = 1./255,\n",
    "                                   shear_range = 0.2,\n",
    "                                   zoom_range = 0.2,\n",
    "                                   horizontal_flip = True)\n",
    "\n",
    "    test_datagen = ImageDataGenerator(rescale = 1./255)\n",
    "\n",
    "    training_set = train_datagen.flow_from_directory(train_dir_path,\n",
    "                                                     target_size = (size, size),\n",
    "                                                     batch_size = batch_size,\n",
    "                                                     class_mode = 'categorical')\n",
    "\n",
    "    test_set = test_datagen.flow_from_directory(test_dir_path,\n",
    "                                                target_size = (size, size),\n",
    "                                                batch_size = batch_size,\n",
    "                                                class_mode = 'categorical')\n",
    "\n",
    "    callback = [EarlyStopping(monitor='val_loss', patience=5),\n",
    "                ModelCheckpoint(\"fruits_checkpoints.h5\", monitor='val_loss', save_best_only = True)]\n",
    "    \n",
    "    #construct fit generator\n",
    "    history = classify_model.fit_generator(training_set, epochs=EPOCHS, \n",
    "                                       steps_per_epoch = training_set.n // batch_size,\n",
    "                                       validation_data=test_set,\n",
    "                                       validation_steps = test_set.n // batch_size,\n",
    "                                       verbose=1)\n",
    "    \n",
    "    class_dict = training_set.class_indices\n",
    "    np.save('class_dict', class_dict)\n",
    "    trainedModel_Filename = SaveModelFile(classify_model, save_model_filename)\n",
    "    return history, trainedModel_Filename\n",
    "\n",
    "def SaveModelFile(classify_model, save_model_filename):\n",
    "    \"\"\"\n",
    "    Saves trained classification model\n",
    "\n",
    "    Args:\n",
    "        ClassifyModel : trained classification Model\n",
    "        save_model_filename(str): filename, to save trained model,without extension.\n",
    "\n",
    "    Returns:\n",
    "        save_model_filename(str): filename with extension.\n",
    "    \"\"\"\n",
    "    today = date.today()\n",
    "    #date_str = today.strftime(\"%d%m%y\")\n",
    "    #save_model_filename = '_'.join([save_model_filename, date_str])\n",
    "    save_model_filename = save_model_filename + '.h5'\n",
    "    classify_model.save(save_model_filename)\n",
    "    print('Done Saving Model File...')\n",
    "    return save_model_filename"
   ]
  },
  {
   "cell_type": "code",
   "execution_count": 22,
   "metadata": {},
   "outputs": [
    {
     "name": "stdout",
     "output_type": "stream",
     "text": [
      "Total Number of Classes in train DataSet:  6\n",
      "Total Number of Classes in test DataSet:  7\n",
      "Total Number of train samples:  10901\n",
      "Total Number of test samples: 2698\n"
     ]
    }
   ],
   "source": [
    "num_of_classes = readData()"
   ]
  },
  {
   "cell_type": "code",
   "execution_count": 23,
   "metadata": {},
   "outputs": [
    {
     "name": "stderr",
     "output_type": "stream",
     "text": [
      "W0911 07:09:09.489546 12092 deprecation_wrapper.py:119] From C:\\Users\\User\\Anaconda3\\envs\\yolo3\\lib\\site-packages\\keras\\optimizers.py:790: The name tf.train.Optimizer is deprecated. Please use tf.compat.v1.train.Optimizer instead.\n",
      "\n"
     ]
    },
    {
     "name": "stdout",
     "output_type": "stream",
     "text": [
      "_________________________________________________________________\n",
      "Layer (type)                 Output Shape              Param #   \n",
      "=================================================================\n",
      "conv2d_16 (Conv2D)           (None, 510, 510, 32)      896       \n",
      "_________________________________________________________________\n",
      "max_pooling2d_16 (MaxPooling (None, 255, 255, 32)      0         \n",
      "_________________________________________________________________\n",
      "conv2d_17 (Conv2D)           (None, 253, 253, 64)      18496     \n",
      "_________________________________________________________________\n",
      "max_pooling2d_17 (MaxPooling (None, 126, 126, 64)      0         \n",
      "_________________________________________________________________\n",
      "dropout_19 (Dropout)         (None, 126, 126, 64)      0         \n",
      "_________________________________________________________________\n",
      "conv2d_18 (Conv2D)           (None, 124, 124, 128)     73856     \n",
      "_________________________________________________________________\n",
      "max_pooling2d_18 (MaxPooling (None, 62, 62, 128)       0         \n",
      "_________________________________________________________________\n",
      "dropout_20 (Dropout)         (None, 62, 62, 128)       0         \n",
      "_________________________________________________________________\n",
      "conv2d_19 (Conv2D)           (None, 60, 60, 256)       295168    \n",
      "_________________________________________________________________\n",
      "max_pooling2d_19 (MaxPooling (None, 30, 30, 256)       0         \n",
      "_________________________________________________________________\n",
      "dropout_21 (Dropout)         (None, 30, 30, 256)       0         \n",
      "_________________________________________________________________\n",
      "conv2d_20 (Conv2D)           (None, 28, 28, 512)       1180160   \n",
      "_________________________________________________________________\n",
      "max_pooling2d_20 (MaxPooling (None, 14, 14, 512)       0         \n",
      "_________________________________________________________________\n",
      "dropout_22 (Dropout)         (None, 14, 14, 512)       0         \n",
      "_________________________________________________________________\n",
      "flatten_4 (Flatten)          (None, 100352)            0         \n",
      "_________________________________________________________________\n",
      "dense_10 (Dense)             (None, 128)               12845184  \n",
      "_________________________________________________________________\n",
      "dropout_23 (Dropout)         (None, 128)               0         \n",
      "_________________________________________________________________\n",
      "dense_11 (Dense)             (None, 128)               16512     \n",
      "_________________________________________________________________\n",
      "dropout_24 (Dropout)         (None, 128)               0         \n",
      "_________________________________________________________________\n",
      "dense_12 (Dense)             (None, 6)                 774       \n",
      "=================================================================\n",
      "Total params: 14,431,046\n",
      "Trainable params: 14,431,046\n",
      "Non-trainable params: 0\n",
      "_________________________________________________________________\n"
     ]
    }
   ],
   "source": [
    "#Compile classification model\n",
    "classifyModel=compile_classify_model(num_of_classes)"
   ]
  },
  {
   "cell_type": "code",
   "execution_count": 50,
   "metadata": {},
   "outputs": [
    {
     "name": "stdout",
     "output_type": "stream",
     "text": [
      "Found 10901 images belonging to 6 classes.\n",
      "Found 2698 images belonging to 6 classes.\n",
      "Epoch 1/10\n",
      "340/340 [==============================] - 689s 2s/step - loss: 1.1258 - acc: 0.5730 - val_loss: 0.5874 - val_acc: 0.7891\n",
      "Epoch 2/10\n",
      "340/340 [==============================] - 675s 2s/step - loss: 0.5162 - acc: 0.8190 - val_loss: 0.2796 - val_acc: 0.9130\n",
      "Epoch 3/10\n",
      "340/340 [==============================] - 677s 2s/step - loss: 0.3626 - acc: 0.8747 - val_loss: 0.3256 - val_acc: 0.8788\n",
      "Epoch 4/10\n",
      "340/340 [==============================] - 672s 2s/step - loss: 0.3191 - acc: 0.8891 - val_loss: 0.1930 - val_acc: 0.9482\n",
      "Epoch 5/10\n",
      "340/340 [==============================] - 670s 2s/step - loss: 0.2829 - acc: 0.9007 - val_loss: 0.2065 - val_acc: 0.9261\n",
      "Epoch 6/10\n",
      "340/340 [==============================] - 670s 2s/step - loss: 0.2573 - acc: 0.9105 - val_loss: 0.1501 - val_acc: 0.9546\n",
      "Epoch 7/10\n",
      "340/340 [==============================] - 677s 2s/step - loss: 0.2166 - acc: 0.9238 - val_loss: 0.1722 - val_acc: 0.9407\n",
      "Epoch 8/10\n",
      "340/340 [==============================] - 672s 2s/step - loss: 0.2205 - acc: 0.9232 - val_loss: 0.2270 - val_acc: 0.9276\n",
      "Epoch 9/10\n",
      "340/340 [==============================] - 672s 2s/step - loss: 0.1942 - acc: 0.9322 - val_loss: 0.1391 - val_acc: 0.9584\n",
      "Epoch 10/10\n",
      "340/340 [==============================] - 673s 2s/step - loss: 0.1626 - acc: 0.9454 - val_loss: 0.2616 - val_acc: 0.8968\n",
      "Done Saving Model File...\n"
     ]
    },
    {
     "ename": "NameError",
     "evalue": "name 'plotTrainResults' is not defined",
     "output_type": "error",
     "traceback": [
      "\u001b[0;31m---------------------------------------------------------------------------\u001b[0m",
      "\u001b[0;31mNameError\u001b[0m                                 Traceback (most recent call last)",
      "\u001b[0;32m<ipython-input-50-3eea4c441e44>\u001b[0m in \u001b[0;36m<module>\u001b[0;34m\u001b[0m\n\u001b[1;32m      3\u001b[0m \u001b[0;34m\u001b[0m\u001b[0m\n\u001b[1;32m      4\u001b[0m \u001b[0;31m#Plot the training results\u001b[0m\u001b[0;34m\u001b[0m\u001b[0;34m\u001b[0m\u001b[0m\n\u001b[0;32m----> 5\u001b[0;31m \u001b[0mplotTrainResults\u001b[0m\u001b[0;34m(\u001b[0m\u001b[0mtraining_history\u001b[0m\u001b[0;34m)\u001b[0m\u001b[0;34m\u001b[0m\u001b[0m\n\u001b[0m",
      "\u001b[0;31mNameError\u001b[0m: name 'plotTrainResults' is not defined"
     ]
    }
   ],
   "source": [
    "#Start training model on train dataset\n",
    "training_history,trained_model_path = train_classify_model(classifyModel)"
   ]
  },
  {
   "cell_type": "code",
   "execution_count": 51,
   "metadata": {},
   "outputs": [
    {
     "data": {
      "image/png": "[encoded data removed]",
      "text/plain": [
       "<Figure size 432x288 with 1 Axes>"
      ]
     },
     "metadata": {
      "needs_background": "light"
     },
     "output_type": "display_data"
    },
    {
     "data": {
      "image/png": "[encoded data removed]",
      "text/plain": [
       "<Figure size 432x288 with 1 Axes>"
      ]
     },
     "metadata": {
      "needs_background": "light"
     },
     "output_type": "display_data"
    }
   ],
   "source": [
    "#Plot the training results\n",
    "plot_result(training_history)"
   ]
  },
  {
   "cell_type": "code",
   "execution_count": 24,
   "metadata": {},
   "outputs": [],
   "source": [
    "def predict_fruit_class(image_path, trained_model, class_dict):\n",
    "    \"\"\"\n",
    "    Perform class prediction on input image and print predicted class.\n",
    "\n",
    "    Args:\n",
    "        image_path(str): Absolute Path to test image\n",
    "        trained_model(object): trained model from load_model()\n",
    "        class_dict(dict): python dict of all image classes.\n",
    "\n",
    "    Returns:\n",
    "        Probability of predictions for each class.\n",
    "    \"\"\"\n",
    "    x = image.load_img(image_path, target_size=(size,size))\n",
    "    x = image.img_to_array(x)\n",
    "    # for Display Only\n",
    "    import matplotlib.pyplot as plt\n",
    "    plt.imshow((x * 255).astype(np.uint8))\n",
    "    x = np.expand_dims(x, axis=0)\n",
    "    prediction_class = trained_model.predict_classes(x, batch_size=1)\n",
    "    prediction_probs = trained_model.predict_proba(x, batch_size=1)\n",
    "    print('probs:',prediction_probs)\n",
    "    print('class_index:',prediction_class[0])\n",
    "    for key, value in class_dict.items():\n",
    "        if value == prediction_class.item():\n",
    "            return key\n",
    "    return None"
   ]
  },
  {
   "cell_type": "code",
   "execution_count": 28,
   "metadata": {},
   "outputs": [],
   "source": [
    "trained_model_path = PATH_TO_TRAINED_MODEL_FILE\n",
    "trained_model = load_model(trained_model_path)\n",
    "class_dict = np.load('class_dict.npy', allow_pickle=True).item()"
   ]
  },
  {
   "cell_type": "code",
   "execution_count": 29,
   "metadata": {},
   "outputs": [
    {
     "name": "stdout",
     "output_type": "stream",
     "text": [
      "probs: [[0. 1. 0. 0. 0. 0.]]\n",
      "class_index: 1\n",
      "freshbanana\n"
     ]
    },
    {
     "data": {
      "image/png": "[encoded data removed]",
      "text/plain": [
       "<Figure size 432x288 with 1 Axes>"
      ]
     },
     "metadata": {
      "needs_background": "light"
     },
     "output_type": "display_data"
    }
   ],
   "source": [
    "image_path = './dataset/test/freshbanana/rotated_by_60_Screen Shot 2018-06-12 at 9.56.56 PM.png'\n",
    "single_pred = predict_fruit_class(image_path,trained_model, class_dict)\n",
    "print(single_pred)"
   ]
  },
  {
   "cell_type": "code",
   "execution_count": null,
   "metadata": {},
   "outputs": [],
   "source": []
  }
 ],
 "metadata": {
  "kernelspec": {
   "display_name": "Python 3",
   "language": "python",
   "name": "python3"
  },
  "language_info": {
   "codemirror_mode": {
    "name": "ipython",
    "version": 3
   },
   "file_extension": ".py",
   "mimetype": "text/x-python",
   "name": "python",
   "nbconvert_exporter": "python",
   "pygments_lexer": "ipython3",
   "version": "3.7.3"
  }
 },
 "nbformat": 4,
 "nbformat_minor": 1
}
